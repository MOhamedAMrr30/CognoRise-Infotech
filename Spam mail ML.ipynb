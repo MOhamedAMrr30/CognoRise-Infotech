{
  "nbformat": 4,
  "nbformat_minor": 0,
  "metadata": {
    "colab": {
      "provenance": []
    },
    "kernelspec": {
      "name": "python3",
      "display_name": "Python 3"
    },
    "language_info": {
      "name": "python"
    }
  },
  "cells": [
    {
      "cell_type": "code",
      "execution_count": 1,
      "metadata": {
        "colab": {
          "base_uri": "https://localhost:8080/"
        },
        "id": "vaU8r3ALWBhP",
        "outputId": "0fc25724-72ce-471f-ce91-40dc1b90214f"
      },
      "outputs": [
        {
          "output_type": "stream",
          "name": "stdout",
          "text": [
            "Logistic Regression Report:\n",
            "               precision    recall  f1-score   support\n",
            "\n",
            "           0       0.98      1.00      0.99       966\n",
            "           1       1.00      0.90      0.95       149\n",
            "\n",
            "    accuracy                           0.99      1115\n",
            "   macro avg       0.99      0.95      0.97      1115\n",
            "weighted avg       0.99      0.99      0.99      1115\n",
            "\n",
            "Random Forest Classifier Report:\n",
            "               precision    recall  f1-score   support\n",
            "\n",
            "           0       0.97      1.00      0.99       966\n",
            "           1       1.00      0.83      0.91       149\n",
            "\n",
            "    accuracy                           0.98      1115\n",
            "   macro avg       0.99      0.92      0.95      1115\n",
            "weighted avg       0.98      0.98      0.98      1115\n",
            "\n",
            "AdaBoost Classifier Report:\n",
            "               precision    recall  f1-score   support\n",
            "\n",
            "           0       0.98      0.99      0.98       966\n",
            "           1       0.93      0.84      0.88       149\n",
            "\n",
            "    accuracy                           0.97      1115\n",
            "   macro avg       0.95      0.91      0.93      1115\n",
            "weighted avg       0.97      0.97      0.97      1115\n",
            "\n",
            "KNN Classifier Report:\n",
            "               precision    recall  f1-score   support\n",
            "\n",
            "           0       0.92      1.00      0.96       966\n",
            "           1       1.00      0.45      0.62       149\n",
            "\n",
            "    accuracy                           0.93      1115\n",
            "   macro avg       0.96      0.72      0.79      1115\n",
            "weighted avg       0.93      0.93      0.91      1115\n",
            "\n"
          ]
        }
      ],
      "source": [
        "import pandas as pd\n",
        "from sklearn.model_selection import train_test_split\n",
        "from sklearn.feature_extraction.text import CountVectorizer\n",
        "from sklearn.metrics import classification_report\n",
        "from sklearn.linear_model import LogisticRegression\n",
        "from sklearn.ensemble import RandomForestClassifier, AdaBoostClassifier\n",
        "from sklearn.neighbors import KNeighborsClassifier\n",
        "\n",
        "file_path = '/content/spam.csv'\n",
        "df = pd.read_csv(file_path)\n",
        "\n",
        "# Splitting the data into features (X) and labels (y)\n",
        "X = df['Message']\n",
        "y = df['Category'].apply(lambda x: 1 if x == 'spam' else 0)  # Converting labels to binary\n",
        "\n",
        "X_train, X_test, y_train, y_test = train_test_split(X, y, test_size=0.2, random_state=42)\n",
        "\n",
        "#Bag-of-Words model\n",
        "vectorizer = CountVectorizer()\n",
        "X_train_vec = vectorizer.fit_transform(X_train)\n",
        "X_test_vec = vectorizer.transform(X_test)\n",
        "\n",
        "# Logistic Regression\n",
        "logreg = LogisticRegression()\n",
        "logreg.fit(X_train_vec, y_train)\n",
        "y_pred_logreg = logreg.predict(X_test_vec)\n",
        "print(\"Logistic Regression Report:\\n\", classification_report(y_test, y_pred_logreg))\n",
        "\n",
        "# Random Forest Classifier\n",
        "rf = RandomForestClassifier()\n",
        "rf.fit(X_train_vec, y_train)\n",
        "y_pred_rf = rf.predict(X_test_vec)\n",
        "print(\"Random Forest Classifier Report:\\n\", classification_report(y_test, y_pred_rf))\n",
        "\n",
        "# AdaBoost Classifier\n",
        "ada = AdaBoostClassifier()\n",
        "ada.fit(X_train_vec, y_train)\n",
        "y_pred_ada = ada.predict(X_test_vec)\n",
        "print(\"AdaBoost Classifier Report:\\n\", classification_report(y_test, y_pred_ada))\n",
        "\n",
        "# K-Nearest Neighbors (KNN) Classifier\n",
        "knn = KNeighborsClassifier()\n",
        "knn.fit(X_train_vec, y_train)\n",
        "y_pred_knn = knn.predict(X_test_vec)\n",
        "print(\"KNN Classifier Report:\\n\", classification_report(y_test, y_pred_knn))\n"
      ]
    }
  ]
}