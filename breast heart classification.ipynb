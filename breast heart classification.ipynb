{
  "nbformat": 4,
  "nbformat_minor": 0,
  "metadata": {
    "colab": {
      "provenance": []
    },
    "kernelspec": {
      "name": "python3",
      "display_name": "Python 3"
    },
    "language_info": {
      "name": "python"
    }
  },
  "cells": [
    {
      "cell_type": "code",
      "execution_count": 1,
      "metadata": {
        "colab": {
          "base_uri": "https://localhost:8080/"
        },
        "id": "AuYMu_e4nUok",
        "outputId": "c9ed2864-3598-4604-e1f2-de9c155bdd28"
      },
      "outputs": [
        {
          "output_type": "stream",
          "name": "stdout",
          "text": [
            "0.956140350877193 0.9649122807017544 0.956140350877193 0.9473684210526315\n"
          ]
        }
      ],
      "source": [
        "import pandas as pd\n",
        "from sklearn.model_selection import train_test_split\n",
        "from sklearn.preprocessing import LabelEncoder\n",
        "from sklearn.neighbors import KNeighborsClassifier\n",
        "from sklearn.ensemble import RandomForestClassifier\n",
        "from sklearn.linear_model import LogisticRegression\n",
        "from sklearn.tree import DecisionTreeClassifier\n",
        "from sklearn.metrics import accuracy_score\n",
        "\n",
        "data = pd.read_csv('/content/data.csv')\n",
        "data = data.drop(columns=['id', 'Unnamed: 32'])\n",
        "\n",
        "# Encode the target variable ('M' for malignant, 'B' for benign)\n",
        "le = LabelEncoder()\n",
        "data['diagnosis'] = le.fit_transform(data['diagnosis'])\n",
        "\n",
        "# Split the data into features (X) and target (y)\n",
        "X = data.drop(columns=['diagnosis'])\n",
        "y = data['diagnosis']\n",
        "\n",
        "X_train, X_test, y_train, y_test = train_test_split(X, y, test_size=0.2, random_state=42)\n",
        "\n",
        "# Initialize the classifiers\n",
        "knn = KNeighborsClassifier()\n",
        "rf = RandomForestClassifier(random_state=42)\n",
        "log_reg = LogisticRegression(max_iter=10000)\n",
        "dt = DecisionTreeClassifier(random_state=42)\n",
        "\n",
        "# Train the models\n",
        "knn.fit(X_train, y_train)\n",
        "rf.fit(X_train, y_train)\n",
        "log_reg.fit(X_train, y_train)\n",
        "dt.fit(X_train, y_train)\n",
        "\n",
        "knn_pred = knn.predict(X_test)\n",
        "rf_pred = rf.predict(X_test)\n",
        "log_reg_pred = log_reg.predict(X_test)\n",
        "dt_pred = dt.predict(X_test)\n",
        "\n",
        "# Calculate the accuracy of each model\n",
        "knn_acc = accuracy_score(y_test, knn_pred)\n",
        "rf_acc = accuracy_score(y_test, rf_pred)\n",
        "log_reg_acc = accuracy_score(y_test, log_reg_pred)\n",
        "dt_acc = accuracy_score(y_test, dt_pred)\n",
        "\n",
        "print(knn_acc, rf_acc, log_reg_acc, dt_acc)\n"
      ]
    }
  ]
}